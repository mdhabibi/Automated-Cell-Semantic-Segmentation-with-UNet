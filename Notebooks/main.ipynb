{
  "nbformat": 4,
  "nbformat_minor": 0,
  "metadata": {
    "colab": {
      "provenance": []
    },
    "kernelspec": {
      "name": "python3",
      "display_name": "Python 3"
    },
    "language_info": {
      "name": "python"
    }
  },
  "cells": [
    {
      "cell_type": "markdown",
      "source": [
        "# Cell Segmentation with U-Net\n",
        "## Methodology\n",
        "This notebook demonstrates the process of segmenting cells in biomedical images using the U-Net architecture.\n",
        "\n",
        "### Overview:\n",
        "1. **Dataset Download**: Instructions on how to download the dataset from Kaggle.\n",
        "2. **Data Preprocessing**: Using `data_loader.py` to load and preprocess the dataset.\n",
        "3. **Model Building**: Defining and training the U-Net model.\n",
        "4. **Evaluation**: Assessing the model's performance.\n",
        "5. **Visualization**: Using `utils.py` to visualize the results.\n",
        "\n",
        "This project aims to provide a comprehensive workflow for cell segmentation, facilitating further research and development in biomedical image analysis."
      ],
      "metadata": {
        "id": "E-LZT7NvKYcF"
      }
    },
    {
      "cell_type": "markdown",
      "source": [
        "## Imports"
      ],
      "metadata": {
        "id": "-EMgGC0fLGfC"
      }
    },
    {
      "cell_type": "code",
      "execution_count": 2,
      "metadata": {
        "id": "F5t_t3jEH2Yu",
        "colab": {
          "base_uri": "https://localhost:8080/",
          "height": 367
        },
        "outputId": "57127d34-f9c7-4390-9bdb-17da84398643"
      },
      "outputs": [
        {
          "output_type": "error",
          "ename": "ModuleNotFoundError",
          "evalue": "ignored",
          "traceback": [
            "\u001b[0;31m---------------------------------------------------------------------------\u001b[0m",
            "\u001b[0;31mModuleNotFoundError\u001b[0m                       Traceback (most recent call last)",
            "\u001b[0;32m<ipython-input-2-404b870ae0ab>\u001b[0m in \u001b[0;36m<cell line: 7>\u001b[0;34m()\u001b[0m\n\u001b[1;32m      5\u001b[0m \u001b[0;32mimport\u001b[0m \u001b[0mos\u001b[0m\u001b[0;34m\u001b[0m\u001b[0;34m\u001b[0m\u001b[0m\n\u001b[1;32m      6\u001b[0m \u001b[0;31m# Import custom scripts\u001b[0m\u001b[0;34m\u001b[0m\u001b[0;34m\u001b[0m\u001b[0m\n\u001b[0;32m----> 7\u001b[0;31m \u001b[0;32mfrom\u001b[0m \u001b[0mScripts\u001b[0m\u001b[0;34m.\u001b[0m\u001b[0mdata_loader\u001b[0m \u001b[0;32mimport\u001b[0m \u001b[0munzip_to_original_subfolders\u001b[0m\u001b[0;34m,\u001b[0m \u001b[0mget_data_paths\u001b[0m\u001b[0;34m,\u001b[0m \u001b[0mpreprocess_image\u001b[0m\u001b[0;34m,\u001b[0m \u001b[0mpreprocess_mask\u001b[0m\u001b[0;34m,\u001b[0m \u001b[0mload_dataset\u001b[0m\u001b[0;34m\u001b[0m\u001b[0;34m\u001b[0m\u001b[0m\n\u001b[0m\u001b[1;32m      8\u001b[0m \u001b[0;32mfrom\u001b[0m \u001b[0mScripts\u001b[0m\u001b[0;34m.\u001b[0m\u001b[0mutils\u001b[0m \u001b[0;32mimport\u001b[0m \u001b[0mdisplay_random_sample\u001b[0m\u001b[0;34m\u001b[0m\u001b[0;34m\u001b[0m\u001b[0m\n",
            "\u001b[0;31mModuleNotFoundError\u001b[0m: No module named 'Scripts'",
            "",
            "\u001b[0;31m---------------------------------------------------------------------------\u001b[0;32m\nNOTE: If your import is failing due to a missing package, you can\nmanually install dependencies using either !pip or !apt.\n\nTo view examples of installing some common dependencies, click the\n\"Open Examples\" button below.\n\u001b[0;31m---------------------------------------------------------------------------\u001b[0m\n"
          ],
          "errorDetails": {
            "actions": [
              {
                "action": "open_url",
                "actionText": "Open Examples",
                "url": "/notebooks/snippets/importing_libraries.ipynb"
              }
            ]
          }
        }
      ],
      "source": [
        "# Import necessary libraries\n",
        "import tensorflow as tf\n",
        "import numpy as np\n",
        "import matplotlib.pyplot as plt\n",
        "import os\n",
        "# Import custom scripts\n",
        "from Scripts.data_loader import unzip_to_original_subfolders, get_data_paths, preprocess_image, preprocess_mask, load_dataset\n",
        "from Scripts.utils import display_random_sample"
      ]
    },
    {
      "cell_type": "markdown",
      "source": [
        "## Dataset Download Instructions\n",
        "\n",
        "\n",
        "The dataset used in this project is from the 2018 Data Science Bowl, available on Kaggle. Follow these steps to download and prepare the dataset:\n",
        "\n",
        "1. Go to [Kaggle Dataset Link](https://www.kaggle.com/c/data-science-bowl-2018/data).\n",
        "2. Download the dataset to your local machine.\n",
        "3. Unzip the dataset into the `data` directory of this project.\n",
        "\n",
        "Alternatively, you can use the provided script in the `Scripts` directory to automate this process.\n"
      ],
      "metadata": {
        "id": "V-IOmmdhMFVT"
      }
    },
    {
      "cell_type": "code",
      "source": [
        "# Importing necessary libraries for file upload in Google Colab\n",
        "from google.colab import files\n",
        "\n",
        "# Prompting for file upload (e.g., kaggle.json for API authentication) in Google Colab\n",
        "files.upload()"
      ],
      "metadata": {
        "id": "44rh_I8MMb8Z"
      },
      "execution_count": null,
      "outputs": []
    },
    {
      "cell_type": "code",
      "source": [
        "# Setup for Kaggle API and move the uploaded kaggle.json file into the Kaggle directory\n",
        "!mkdir -p ~/.kaggle\n",
        "!mv kaggle.json ~/.kaggle/\n",
        "!chmod 600 ~/.kaggle/kaggle.json  # Change the permissions of the file\n",
        "\n",
        "# Download the 2018 Data Science Bowl dataset\n",
        "!kaggle competitions download -c data-science-bowl-2018"
      ],
      "metadata": {
        "id": "k2JiqkUCPsBL"
      },
      "execution_count": null,
      "outputs": []
    },
    {
      "cell_type": "code",
      "source": [
        "# Unzip the dataset\n",
        "!unzip -q data-science-bowl-2018.zip -d dsb2018\n",
        "\n",
        "# Call the function on 'dsb2018' directory\n",
        "unzip_to_original_subfolders('dsb2018')"
      ],
      "metadata": {
        "colab": {
          "base_uri": "https://localhost:8080/"
        },
        "id": "kOY_ywrPPwG0",
        "outputId": "79edb50d-fb4a-4cc8-d133-1bd9530e3311"
      },
      "execution_count": 1,
      "outputs": [
        {
          "output_type": "stream",
          "name": "stdout",
          "text": [
            "unzip:  cannot find or open data-science-bowl-2018.zip, data-science-bowl-2018.zip.zip or data-science-bowl-2018.zip.ZIP.\n"
          ]
        }
      ]
    },
    {
      "cell_type": "code",
      "source": [],
      "metadata": {
        "id": "JJPWi3boP12C"
      },
      "execution_count": null,
      "outputs": []
    }
  ]
}